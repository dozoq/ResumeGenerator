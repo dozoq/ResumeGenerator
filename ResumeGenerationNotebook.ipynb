{
 "cells": [
  {
   "cell_type": "markdown",
   "id": "5fec75f7-c80b-495d-8c3b-c09c61248e9a",
   "metadata": {},
   "source": [
    "imports"
   ]
  },
  {
   "cell_type": "code",
   "execution_count": 1,
   "id": "38ea455c-9e24-4d78-853e-a513b95b8c85",
   "metadata": {},
   "outputs": [
    {
     "name": "stderr",
     "output_type": "stream",
     "text": [
      "C:\\Users\\anako\\anaconda3\\envs\\cuda\\lib\\site-packages\\tqdm\\auto.py:21: TqdmWarning: IProgress not found. Please update jupyter and ipywidgets. See https://ipywidgets.readthedocs.io/en/stable/user_install.html\n",
      "  from .autonotebook import tqdm as notebook_tqdm\n"
     ]
    }
   ],
   "source": [
    "import pandas as pd\n",
    "from torch.utils.data import Dataset, DataLoader\n",
    "from transformers import AdamW, get_scheduler, GPT2LMHeadModel, GPT2Tokenizer\n",
    "import torch"
   ]
  },
  {
   "cell_type": "markdown",
   "id": "4a251b54-43d0-4777-8921-f616b4f1390f",
   "metadata": {},
   "source": [
    "model config"
   ]
  },
  {
   "cell_type": "code",
   "execution_count": 2,
   "id": "b3210d6e-d3f5-4ccb-834b-ef2f1a78a232",
   "metadata": {},
   "outputs": [],
   "source": [
    "tokenizer = GPT2Tokenizer.from_pretrained('gpt2')\n",
    "model = GPT2LMHeadModel.from_pretrained('gpt2')\n",
    "#model.resize_token_embeddings(130000)\n",
    "if tokenizer.pad_token is None:\n",
    "    tokenizer.pad_token = tokenizer.eos_token"
   ]
  },
  {
   "cell_type": "markdown",
   "id": "5a84969c-a4c8-4bf4-8aa5-b4a785672df6",
   "metadata": {},
   "source": [
    "data import & stats"
   ]
  },
  {
   "cell_type": "code",
   "execution_count": 3,
   "id": "156e8929-6a99-4e1a-ace5-2b3f601852a0",
   "metadata": {},
   "outputs": [
    {
     "name": "stdout",
     "output_type": "stream",
     "text": [
      "0                HR ADMINISTRATOR/MARKETING ASSOCIATE\\...\n",
      "1                HR SPECIALIST, US HR OPERATIONS      ...\n",
      "2                HR DIRECTOR       Summary      Over 2...\n",
      "3                HR SPECIALIST       Summary    Dedica...\n",
      "4                HR MANAGER         Skill Highlights  ...\n",
      "                              ...                        \n",
      "3441    Computer Skills: â¢ Proficient in MS office (...\n",
      "3442    â Willingness to accept the challenges. â ...\n",
      "3443    PERSONAL SKILLS â¢ Quick learner, â¢ Eagerne...\n",
      "3444    COMPUTER SKILLS & SOFTWARE KNOWLEDGE MS-Power ...\n",
      "3445    Skill Set OS Windows XP/7/8/8.1/10 Database MY...\n",
      "Name: Resume_str, Length: 3446, dtype: object\n",
      "Średnia liczba tokenów na wiersz: 1281.010737086477\n"
     ]
    }
   ],
   "source": [
    "csv_files = ['Resume.csv', 'Resume2.csv']\n",
    "\n",
    "selected_column = 'Resume_str'\n",
    "combined_column = pd.concat([pd.read_csv(file)[selected_column] for file in csv_files], ignore_index=True)\n",
    "\n",
    "print(combined_column)\n",
    "train_texts = combined_column.to_list()#\n",
    "\n",
    "tokens = combined_column.apply(lambda x: len(tokenizer.tokenize(x)))\n",
    "\n",
    "avg_tokens_per_row = tokens.mean()\n",
    "\n",
    "print(f\"Średnia liczba tokenów na wiersz: {avg_tokens_per_row}\")"
   ]
  },
  {
   "cell_type": "markdown",
   "id": "37a14604-93af-47f5-901f-786bb852710e",
   "metadata": {},
   "source": [
    "Data prep"
   ]
  },
  {
   "cell_type": "code",
   "execution_count": 4,
   "id": "74c00531-bf9f-47a3-87b7-f01c93b84d82",
   "metadata": {},
   "outputs": [],
   "source": [
    "class TextDataset(Dataset):\n",
    "    def __init__(self, texts, tokenizer, max_length=512):\n",
    "        self.texts = texts\n",
    "        self.tokenizer = tokenizer\n",
    "        self.max_length = max_length\n",
    "\n",
    "    def __len__(self):\n",
    "        return len(self.texts)\n",
    "\n",
    "    def __getitem__(self, idx):\n",
    "        encodings = self.tokenizer(self.texts[idx], truncation=True, max_length=self.max_length, return_tensors=\"pt\")\n",
    "        input_ids = encodings['input_ids'].squeeze()\n",
    "        attention_mask = encodings['attention_mask'].squeeze()\n",
    "        return input_ids, attention_mask"
   ]
  },
  {
   "cell_type": "markdown",
   "id": "df03945b-367b-4eea-8c2c-db423a2378c3",
   "metadata": {},
   "source": [
    "?"
   ]
  },
  {
   "cell_type": "code",
   "execution_count": 5,
   "id": "f4df5fde-29ea-47a6-9f2a-85636ef84497",
   "metadata": {},
   "outputs": [],
   "source": [
    "def collate_fn(batch):\n",
    "    input_ids = [item[0] for item in batch]\n",
    "    attention_masks = [item[1] for item in batch]\n",
    "\n",
    "    # Znajdujemy najdłuższą sekwencję w batchu\n",
    "    max_len = max(len(ids) for ids in input_ids)\n",
    "\n",
    "    # Padding sekwencji do tej samej długości\n",
    "    padded_input_ids = [torch.cat([ids, torch.zeros(max_len - len(ids), dtype=torch.long)]) for ids in input_ids]\n",
    "    padded_attention_masks = [torch.cat([mask, torch.zeros(max_len - len(mask), dtype=torch.long)]) for mask in attention_masks]\n",
    "\n",
    "    # Zwracamy spakowane tensory\n",
    "    return torch.stack(padded_input_ids), torch.stack(padded_attention_masks)"
   ]
  },
  {
   "cell_type": "markdown",
   "id": "71e7377b-d346-4ebb-960e-4de90c44e928",
   "metadata": {},
   "source": [
    "Training Config"
   ]
  },
  {
   "cell_type": "code",
   "execution_count": 6,
   "id": "8958b5f8-1bfa-4bdf-8771-df19ce4703fd",
   "metadata": {},
   "outputs": [
    {
     "name": "stderr",
     "output_type": "stream",
     "text": [
      "C:\\Users\\anako\\anaconda3\\envs\\cuda\\lib\\site-packages\\transformers\\optimization.py:591: FutureWarning: This implementation of AdamW is deprecated and will be removed in a future version. Use the PyTorch implementation torch.optim.AdamW instead, or set `no_deprecation_warning=True` to disable this warning\n",
      "  warnings.warn(\n"
     ]
    }
   ],
   "source": [
    "train_dataset = TextDataset(train_texts, tokenizer)\n",
    "train_loader = DataLoader(train_dataset, batch_size=2, shuffle=True, collate_fn=collate_fn)\n",
    "\n",
    "optimizer = AdamW(model.parameters(), lr=5e-5)\n",
    "num_epochs = 3\n",
    "num_training_steps = num_epochs * len(train_loader)\n",
    "\n",
    "scheduler = get_scheduler(\"linear\", optimizer=optimizer, num_warmup_steps=0, num_training_steps=num_training_steps)\n",
    "\n",
    "device = torch.device('cuda' if torch.cuda.is_available() else 'cpu')\n",
    "model = model.to(device)"
   ]
  },
  {
   "cell_type": "markdown",
   "id": "715b889e-ac52-491d-9d91-4b2ec1d97956",
   "metadata": {},
   "source": [
    "Training"
   ]
  },
  {
   "cell_type": "code",
   "execution_count": 7,
   "id": "dabf52d8-3d64-4b68-b6c0-4382d9d089dc",
   "metadata": {},
   "outputs": [
    {
     "name": "stderr",
     "output_type": "stream",
     "text": [
      "C:\\Users\\anako\\anaconda3\\envs\\cuda\\lib\\site-packages\\transformers\\models\\gpt2\\modeling_gpt2.py:545: UserWarning: 1Torch was not compiled with flash attention. (Triggered internally at C:\\cb\\pytorch_1000000000000\\work\\aten\\src\\ATen\\native\\transformers\\cuda\\sdp_utils.cpp:555.)\n",
      "  attn_output = torch.nn.functional.scaled_dot_product_attention(\n"
     ]
    },
    {
     "name": "stdout",
     "output_type": "stream",
     "text": [
      "Epoch 1 finished with loss 2.6944870948791504\n",
      "Epoch 2 finished with loss 1.754962682723999\n",
      "Epoch 3 finished with loss 2.1572158336639404\n"
     ]
    }
   ],
   "source": [
    "model.train()\n",
    "\n",
    "for epoch in range(num_epochs):\n",
    "# Podczas treningu, dane (input_ids, attention_mask) również muszą być przeniesione na GPU\n",
    "    for batch in train_loader:\n",
    "        input_ids, attention_masks = batch\n",
    "        input_ids = input_ids.to(device)\n",
    "        attention_masks = attention_masks.to(device)\n",
    "    \n",
    "        # Forward pass\n",
    "        outputs = model(input_ids, attention_mask=attention_masks, labels=input_ids)\n",
    "        loss = outputs.loss\n",
    "        loss.backward()\n",
    "    \n",
    "        optimizer.step()\n",
    "        scheduler.step()\n",
    "        optimizer.zero_grad()\n",
    "\n",
    "    print(f\"Epoch {epoch + 1} finished with loss {loss.item()}\")\n",
    "\n"
   ]
  },
  {
   "cell_type": "markdown",
   "id": "b1a14abc-1a15-48fa-9e37-dc4572efa9b5",
   "metadata": {},
   "source": [
    "Model Saving"
   ]
  },
  {
   "cell_type": "code",
   "execution_count": 8,
   "id": "521538fe-2966-4017-96fd-0fdc6664b1d6",
   "metadata": {},
   "outputs": [
    {
     "data": {
      "text/plain": [
       "('./fine_tuned_gpt2\\\\tokenizer_config.json',\n",
       " './fine_tuned_gpt2\\\\special_tokens_map.json',\n",
       " './fine_tuned_gpt2\\\\vocab.json',\n",
       " './fine_tuned_gpt2\\\\merges.txt',\n",
       " './fine_tuned_gpt2\\\\added_tokens.json')"
      ]
     },
     "execution_count": 8,
     "metadata": {},
     "output_type": "execute_result"
    }
   ],
   "source": [
    "model.save_pretrained('./fine_tuned_gpt2')\n",
    "tokenizer.save_pretrained('./fine_tuned_gpt2')"
   ]
  },
  {
   "cell_type": "markdown",
   "id": "a10af4f4-8ea3-49c8-aa7e-6bf074f5e732",
   "metadata": {},
   "source": [
    "Test prompt properties & model loading"
   ]
  },
  {
   "cell_type": "code",
   "execution_count": 9,
   "id": "b6584496-256e-40e9-ab05-fb6ac3b4cd7c",
   "metadata": {},
   "outputs": [],
   "source": [
    "from transformers import GPT2LMHeadModel, GPT2Tokenizer\n",
    "\n",
    "model = GPT2LMHeadModel.from_pretrained('./fine_tuned_gpt2')\n",
    "tokenizer = GPT2Tokenizer.from_pretrained('./fine_tuned_gpt2')\n",
    "\n",
    "prompt = \"generate CV for Samantha, the IT Recruiter\"\n",
    "total_new_tokens = 6000 "
   ]
  },
  {
   "cell_type": "markdown",
   "id": "c0487947-0605-482b-ab53-76e5f0fe1548",
   "metadata": {},
   "source": [
    "Test"
   ]
  },
  {
   "cell_type": "code",
   "execution_count": 14,
   "id": "c4b25352-9b8d-4f19-9ff8-47303506b30a",
   "metadata": {},
   "outputs": [
    {
     "name": "stdout",
     "output_type": "stream",
     "text": [
      "tensor([[ 8612,   378, 26196,   329, 34778,    11,   262,  7283,  3311,   622,\n",
      "          2676]])\n",
      "Vocab size: 50257\n",
      "Max index in input_ids: 34778\n",
      "generate CV for Samantha, the IT Recruiter (LTD) and CPA. She has over 15 years of experience in HR with a strong focus on building trust between client and team members while meeting their needs. Ms Kranti is well-versed at handling complex projects which requires detailed planning to achieve desired results. Strengths: Motivated Team Player Ability To Apply Leadership Skills In Organizing A Project As an Individual Having achieved several awards including Best Lead Of A Team award from the USAFRCA I have always been looking for another career as an individual who can contribute towards my professional goals by working hard toward them. But now that I am able obtain this opportunity there is no option but to give back what I gained during my time here under the guidance & supervision of these outstanding people. Enthusiastic Customer Service Professional Accomplishments Date/Time Estimate â¢ Received first place finish after completing 2 months' employment! Job Title - VP \n",
      "Senior Executive Accountant Responsibilities 1) Managing all accounts within the company; managing employee relations through communication, customer service and training Providing internal controls such processes as annual reporting Capable of following up regularly Withholding cash deposits Involved in monthly reconciliation Make payments Exceeding month-end closing deadlines Prepare weekly reports Conduct financial reconciliations Ensure compliance with bank statements Perform periodic audits Assist customers regarding product availability Review daily sales performance Provide support when required Handle inquiries directly From senior management Liaison with outside vendors Prepares contracts Monthly invoices Create new business opportunities Employee Relations Program Management Training Activities Schedule meetings Internship / Retention Career Highlights Pune UniversityEducation Details \t\n",
      " MBA Business Administration MCA , International Baccalaureate conducted annually [GSS] Mumbai Institute of Certified Public SpeakingProfessor Nashik College OFSCOMS School Certificateploma Hr Organization NagpurUniversity Secured 3 consecutive GSSs against Governmental Standards Authority Managed multiple branches Consistently exceeded official quota targets Generated revenue per day exceeding target Operating budget Developed effective strategies for achieving corporate objectives Worked closely with Senior Executives Ensured proper implementation of accounting policies Created accurate information systems Implement various formsulae Collected data using statistical methods Analyzed cost trends Conferred with auditors Provided appropriate feedback throughout process Planning activities Designed Corporate Governance Documentation Documents Preparation of Annual Reports For Corporate Governances Duties Understood deadline requirements Acted as liaison between Chief Executive Officer & Client Agencies Coordinated Staff Meetings Performed Quality Assurance Monitoring Around the world Procurement Processes Led a successful transition program Successfully completed 4+ years' tenure Contract Negotiations Researched potential solutions Key Result Areas Participated in Global Network Technology Summit Held numerous times across Asia Pacific Region Partnered with key stakeholders Identified emerging technology threats Offered strategic alternatives Prevented risk Mitigated risks via consultation with industry partners Increased efficiency Through thorough research led into developing innovative approaches Facilitated cross functional technical collaboration Design and implemented quality assurance initiatives Demonstrated ability to manage multi task tasks Detail oriented Creating project plans Working independently or co-ordinating groups Meeting Production Schedules Oversaw production schedule Keeping track records Oversee overall organisation ensuring smooth operation Handled complaints internally Evaluated proposals Placeholder Engagement Sourcing Collaborated with other departments Upheld job responsibilities Served as Regional Manager Overseas Contact with global clients Attended event organising events Regularly updated documents like Time Attendance Payroll Updated documentation related issues Follow ups monitored workflows Completed assigned duties Communicated effectively Interacted diplomatically Confirmed deal completion Complete KYC verification Approved transaction payment Order status received Submitted proposal Execution Plans Drafted transactions Ready to accept Payment Cashier Checks Bank Transfer Ticket Debit Card Transaction Tracking System Automatically generated wallet Transactions Installed Tracked account activity Change orders Implemented system Restore Orders Vendor Logging Visits Mail Handling Single Sign On Auto Import Shipping Sellout Merchant Services Sales Tax Help Desk Support Shared knowledge about SAP Accounts Used Microsoft Excel tool Proficient manual Teller Marketing Consultant Seeking position Full Stack Developer Software Development Web Analytics Search Engine Optimization Database Maintenance Cloud Computing Configuration Relay Chat Integration MS Access Online Pricing Oracle RAC Server Upgrade Requirement Report Processing Documentation Requirements Reporting Application Data Protection SQL Toolkit Tools Enterprise Resource Packages XML Template Languages HTML5 File Formats PDF Markup Language Testing Python Script Compatibility Checker Other software used Internet Explorer Version Control Visual Studio 2010 Windows XP Window 2007 VBScript Programming Various Information Systems Basic Attention Deficit Hyperion Multitasking Unix shell scripting DOS Shell script PHP Customizations Multi Page Applications Site Map Drawing Office Suite Performance Monitor Tableau Graphics Editing Manual Sharepoint Spreadsheets WordPerfect OS Xillinx Education details Hardscrabble English Literature Hindi Chaucer Spanish Portuguese American Studies Math Teacher Punjabi Science Track record Writing Psychology General Computer Communication Human Resources Social Media Website Admin Email marketing Ecommerce SEO Advertising WordPress CMS MySpace YouTube Adsense Instagram Tumblr DeviantArt Pinterest Google Plus Youtube Charts Soundcloud Music Video Stock Market User Interface Auditing Adobe Photoshop Illustrator Dreamweavergenerate CV for Samantha, the IT Recruiter.\n",
      "Ms Fauzi has 6 years of experience in Human Resource and Business development as a software developer with over 10 plus Years working on various projects including: Salesforce - HR / Marketing & Customer Service (HRM), SAP - Client Services Development/ Project Management etc.. She is currently looking to apply her skills towards joining an organization that will allow her to grow further into their territory while still maintaining strong work ethic. Ms Fâs expertise includes business management solutions suchAs she works directly with teams which helps them achieve organizational goals through teamwork and mutual respect.  Successful candidates must be able to relate to people across all levels from manager-to candidate-level within given time frame by demonstrating leadership qualities along these lines.\"SAP MVC Developer\"*Awards Nominated at Level 3 Talent Competition 2014 \"Microsoft Certified Professional Trainer\" *Job Responsibilities include(1) Managing project lifecycle; (2); Conducting training sessions related Skills Test Reports Developing test plan Build automation scripts based off product features using Visual Studio Code Testing implementation Scrumming testing via SOX Repositories End user monitoring process Implementing service level design guidelines Implementation of cross functional team building Tools like RStudio, Eclipse, Wordpress And most recently Excel Online Course Manager!Education Details \n",
      "January 2016 BSc Computer Science Pune , Maharashtra Savitribai PhulePunjab University\t\n",
      " Hr Software Engineer Nashik district government office [Govt. of India] PVT. LTD pvt ltd., Rajasthan Jayawantrao National Park . Pvt. Ltd.] Asst. Sr. svc Senior Designer who brings unique experiences providing effective solution delivering value to customers worldwide From conception till date To completion Of Work Description:- 1. Provide technical support services Provided Technical Support tools Performed Maintenance activities For Respondents Providing guidance On proper maintenance schedules Scheduled tasks Served as Team Leader Leading other Projects Around field meetings Attendance Period Overall Time Since Deployment Range : 12 Months Duration: 4 Weeks Role: CTO 2. Help develop new technologies Using VB Script Identified bugs identified during production workflow Understood processes Requirement Documented changes Involved in Change Management Processes Used MS Office Proficient In Microsoft SharePoint 2010 Database Expertise Presentation â¢ Knowledge of Agile Methodologies Created SaaS Models Generated User Interface Controls Designed Restricted Groups Prevented Bugs Identified Type of Bug Reporting Tool used Was there any suggestion I can make it easier or faster? Participated in Program discussions about Feature request Optimized Product Design Rationalized UI Elements Made Users Feel Less Motivated Screencast Prepared QuickBooks Version History Completed Language Known PHP 5.0 Other Languages Currently Working Yes No Experience Hindi English Spanish Punjabi Various Technologies Vendor Specific Information Technology Yalla Linux Operating System Ubuntu 11.04 LTS Debian 7 Framework Xampp Web Servers Apache Tomcat server 2012 Domain Name Bengaluru Education Highlights Unix Installation Basics Git+QRTE CBS license MIT License Elementary School Certificate Eduardo Alfonso Cuesta High school diploma Diploma Hardee Koparga Secondary certificate Internet Browser Mozilla Firefox OSI Server 2013 Enterprise Administration Packages Windows XP Pro membership UNIX Installer Tivoli Network Configuration Troubleshooting Hardware Modem Android Backup Reconciliations WiFi Calling Installs WinSCP File system Documentation FTP Utility Security Cloud storage Accounts Payroll Data Center Logix Protocol GSM VoIP VPN client TCP/IP Configuring MySQL SQL SERVER PROJECT MANAGEMENT PLANNING SYSTEM ADMINISTRATOR ATLANTA DOSSIER AND DIALOG Oracle VirtualBox PCOS AVIATION BOOTSTRAP CRYSTAL INSTALL SolarWinds Hyperion Smart Home Assistant SunTrust Palo Alto Networks HP LAN Tableau SPARCELING ANTI-TYRANT SANITY PROTECTION ARCHITECTIVE CONSTRUCTION ASSAULT SCRIPTS EXECUTIVE CHILD SERVICE PROVIDER EDUCATION GENERALIST COMMUNICATIONS WINDOWS SOFTWARE PUBLIC RELATIONS SECURITY INFORMATION TECHNOLOGY SMARTWORK OFFICE ACCOUNTANT SERVICES DIRECTOR OF BUSINESS DEVELOPMENT KINDSOFORD PRODUCERSHIP FOR THE POSITION BROKERY ASSOCIATE TO RECEIVABLE APPOINTMENTS DESIGNED PROGRAMME SKILL LEVEL PRESENTENCE MISCUM ACTIVITIES INTERNET MARKETING COORDINATOR TORAIN NETWORK DOCUMENTARY VISUALIZATION RESOURCE SHARING NATIONAL REGION CENTER Public Relations Internship Permanent Residency USENET AUTOMATIC TRAFFIC OFFICER IMPROVISE INSPECTORY WORKFORCE PLANS EMPLOYEE ADVOCATE DATA CARE ENGINEERING FINANCE PRODUCT SUPPORT MEDIA SPECIALIST LEAD PHONE CALL PREMIUM QUARTERBACK MAINTENANCE WEBSITE SLASH TEST BUILD SUCCESS THREATS COMPUTER CONSOLIDATEDgenerate CV for Samantha, the IT Recruiter in India. \n",
      "\tC++ Development Tools Used e.g. Visual Studio 2010 , .NET Framework 3.5+ JavaScript IDE(Angular JS) + ASP.Net Web API DesignersEducation Details  MAR 2016 Bachelors of Engineering Information Technology Mumbai University Nashik,. Maharashtra Savitribai Phule Pune university from where I got my MBA cum laude along wich comes naturally after pursuing other technical training courses! GPA Bharti Awards 2017 MSc Computer Science Nagpur college Sadhav College Navjandgen awardee Sangli High School Received Associate's Degree INSEAD Award 2018 HSC Secondary Certificate SANBASEYA CHIEF UNIVERSITY Sdnbvc Ghatkopar awards Institution Name City Yearly Attendance 40 Mar 2019 till Date Education level 1st Diploma Software development Andher institute SVN Bangalore FromSoftware Ltd includes:- Java developer APEXIS 5c., JSPM v10.3+, Servlets 7.0 Operating Systems ApacheTomcat 6.2, MySQL pysql database Softwares SAP 9.1 OS X Developer Responsibilities SDLC PROJECT MANAGEMENT For project manager role include but not limited also creating new jobs per company requirement Manage Roles Shared data among Frontend Developers Working Group Generating Scenarios Create Product Specifications Documentation Writing Client side code Testing Automation Planning Database Administration Integration Test Cases Setup Creating Repositories Involved in Vendor specific issues Helpdesk creation Employee relations Training Sessions Closing meetings QA related Activities Technical support Internship Program Conducted weekly meetups under strict deadlines Coordinating Meetings End user testing Participated in cross platform audits using Microsoft Windows XP Platform Bug tracking System administration Scripting Various software packages Configuration Manager configuration via FTP scripts Troubleshooting Multiplexing Network Devices Maintenance Problem resolution Manual coding Knowledge Base Unix Installation Linux installation Git Debugging Installing Packages Configuring network interfaces Upgrade Protection patches Application deployment Monitoring Hardware upgrades Service Packages Version control XML Licensing License licensing Other tools GUI applications Programming languages HTML6 Presentation scripting CSS Generation Random access debugging QuickBooks SQL Server 2012 Databases Oracle 12YS and HP MySql 2008R2 SSID generation VMWare 4.4.8 Release Control Document Distribution ISO 8601 Certification Organization CBSE Certified Professional certificate organization Cisco ASA certification ClearCase IBM Security Expertise Symbiosis VPN client server technologies LAN Protocol implementation TCP/IP protocols SSL Certifications DNS Servers Routers Wireless router setups Multi Window web application servers Internet Explorer 11e DHCP clients WINS Reconciliation Firewall installations Flash Player Firefox Installer Remedy Red Hat Enterprise Linux LiveCD Raspberry pi root cause recovery VirtualBox VMware virtualization Single Sign On Networks Title II programming DOSSIER AES Alarm systems ADP 2.15 Active Directory Administrator password protection ARIA Backup Tool TATABLES ANTENNA Safe Bootstrap AS400 Advanced graphics card DVI Modem Upto Attachment editor Auto Layout Advance Photoshop Adobe Illustrator CCNA ProTools Acrobat CS7 Basic Excel Visio video editing SharePoint PowerPoint presentations Mailbox Mobile phones Android phone design Spreadsheets Wordpress OneNote Publisher Search Engine optimization SEO Analytics SEMI-site optimisation Smalltalk Webmaster tool Weblogic Designer WordPress CMS Angular js Customizer Google Drive Admin Dashboard media player Smartphones Tablet Tableau TV Tuner YARN Chromium Browser UI Color theme Superwebserver Brackets Websocket Connectivity test automation Cloudera CRAN QUALIFIER Multisim calendar Access Point Calendar Change agent Contacts Applocker AdBlock Plus Accounts Paypal EZPayments Credit Card Payment Gateway Cash handling ATM Switchboard Trusted Sites Antivirus Anti Virus scanning Ticket Maker Screen saver Personal computer security Insurance policies Health insurance policy Hospital billing Prepaid sick leave Medicare Student ID verification Online banking online shoppinggenerate CV for Samantha, the IT Recruiter.\n",
      "Samantha is a computer science graduate with over 15 years of experience in recruitment and retention at Microsoft HR Services (formerly known as HSR) . She has worked on various projects including:\n",
      "Microsoft Office Project Management Program \n",
      "Projects Integration & Deployment       Working knowledge includes MS Visio 4.0/5, Word, PowerPoint, Excel, Access, Publisher, Outlook, Dreamweaver, Jira, Salesforce, SAP, IONOMA, VBA's, Oracle, Citrix, Redshift, etc. Knowledgeable about project management software like Novell and Cloudera are also acquired through her background in Computer Science which helped me to gain more insight into business process from working alone or collaborating closely within teams towards achieving desired results without compromising efficiency levels along the way! Excellent people skills plus excellent communication abilities combined make this an effective recruiting tool that will help you get hired quickly after applying your skill set best value-wise while meeting company goals by ensuring smooth transition out of the organization during hiring processes!! Team player who stays organized throughout multiple stages before being able complete each task simultaneously using my analytical reasoning ability both verbal and written Skills : Strong problem solver adept at prioritizing tasks effectively Responsible for maintaining accurate records across all phases of the recruit process Conducting interviews regularly Successfully manage numerous social media accounts such Instagram and Facebook Live Talent acquisition - Strengths:- Organized team based on merit system Create detailed reports documenting performance metrics Follow up activities involving clientele Perform QA checks regarding accuracy Ensure target customer satisfaction via email Preparation of training materials Prepare prospect package forms Worked with clients extensively under pressure Travel to India every month Review job postings accurately Develop plans for future employer orientations Identify potential candidates Participated actively in cross functional meetings Facilitate Skype calls between managers / representatives Assist prospective employees Respond to inquiries directly From HR Manager About new hire orientation Train prospects Onboarding them Enter their details so they can apply For upcoming college classes Provide coaching sessions related topics relating To Computer Science As well as Interview Processes Quickly Build Social Media following Up Activities Completed Training Period 1st Jan 2017 till Date 2nd Feb 2017 Maintained contact with existing users Provided support services when needed Performed maintenance work Ensured compliance monitoring Reports generated Daily Profiles Created profiles per user level Coordinated monthly student evaluations Using Frontend Developers Weekly Projects Scheduled Job Meetings Planned Launch Events Used front end developers tools Languages C#, HTML, CSS PHP Good Communication Abilities Exceptional writing Ability Analytical thinking Effective time management Expertise Problem Solving Superb interpersonal communicator Dedicated individualism Hardworking professional Enjoy listening to others Understands grammar Basic Multitasking Attention to detail Goal setting Motivational attitude Attentive listener Positive energy Flexibility Creates positive habits Reliable worker Friendly demeanor Competitive spirit Personal Information Seeking employment opportunities Education Details “Company Details \n",
      "January 2013 Bachelor of Engineering information technology Pune , Maharashtra Savitsar College\t\n",
      "October 2010 Diploma Civil Engineer civil engineer pk lindia state university Mumbai campusEducation Accomplishments â¢ Received BPO award 2016.- Present Achievements GPA(%) 79 Attendance 109+ Graduated diploma conducted annually Minor Business Administration Certificate Institution City Other than samne ghat maharashtra Secondary SchoolJharkhand DIPLOMBAD UNIVERSITY PANTHAPURAMAL ENGINEERING INSTITUTE OF TECHNOLOGY chinchwad pradesh indore .. wardur polity Nagpur UniversityIncidentally attended semester 5th grade Higher secondary school Secured Achieved entry quota Managed cash register dailyHandled cold calls Ticket sales Handled incoming mail tickets Led departmental payroll officePersonal Appraisal Taking care not to spoil personal appearance Being polite greeting visitors Shouting good natured greetings Committed to helping customersPreparing guest lists Involved in loading goods Googling queries Answered telephone messages Receive invoices Shipping orders Excelled promptly Meeting deadlines Organization setup Greeted guests Researched shopkeeper Spotting unusual itemsTaking photographs Keeping abreast of store operations Enforced proper decorum Travels Around vendorsWorking conditions Handling Cash transactions Payroll administration Checking deposits Receiving payment Check handling Payment card verification Sending cheques Playing Cricket Regular lesson planning Measuring fitness record keeping Preparing ticket packages Closing payments Managing account reconciliations Mail sorting Customer service correspondence Writing journal entries Tracking appointments Screen printing Order bookkeeping Remedy reading documents Time management Help Desk assistant Kisan scheduling trouble shooting Telephone Calling Client Liaison Troubleshooting Internet usage Testing websites Use computers Operating systems Windows XP Professional Installation manual installation Test drive deployment Software installations Manual testing Web site optimization User friendly environmentOperating Systems DOSBox 10.1 OS X LeopardServices Version 7 Database backupManual backupsWeb server applications Backup programsTesting solutions Network troubleshooting Application Configuration configuration Documentation Setup Servlets managing database Maintenance scripts Reporting bugs reporting Suggest changes Bug tracking System diagnostics Validation Automation test automation Quality control documentationgenerate CV for Samantha, the IT Recruiter.\n",
      "I have had a chance to recruit and train Sam in Bengaluru from Bhopal University where I worked as an HR Manager .  Here he has achieved success with our company which resulted us into one of India's top performing companies during his tenure at The Mahindra Private Limited (now known by its proper name). He also gained experience working on various projects such e.g., Salesforce CRM Solution , Payroll solutions & payroll management software -Education Details MSCD College /BHU Pune 2015- Present\n",
      "January 2014 Post Graduate Diploma Computer Science And Information Technology Nashik: SVN Urja Gorakhpur\t\n",
      "HR Trainer Internship Aon Takarai School Of Engineering Invercargillâs Jr.: SRG Tai Yashwantan Education Various locations including Mumbai â¢ Hr Work Experience includes training new employees till date along with providing them with weekly spreadsheets related skillsets like SAP/Oracle Database Proficiency Salary tracker based compensation systems Job Searching Employee handover Variances recruitment system Employer relations Management Operations Managed Team communication Skills Development OCEAN Certified Trainee Navnirman System Training Programme Company Name City Yearly Attendance Total Years Per Month IGNORE GPA 3 months CSE Certificate 2 years 4 Months SPSS Grade 1 year 6 weeks BEER Certification High school diploma Secondary level cricket academy Goodwill Honda high schools Talent Trackers UGC NET COMPUTER SKILL PROFILE DIGITAL MARKETING STRENGTH TRAINED Leadership Innovative team builder Customer focused On creating engaging campaigns that drive results Successfully manage multiple stakeholders while maintaining integrity Strengths Motivating teams through effective negotiation Build trust between customers Cultivates positive relationships Generating rapport among co-workers Communicating effectively within groups Managing time lines Consistently meeting deadlines Performance Monitoring Assessments Key Result Areas Analyzing data To establish trends Implement improving performance measure Reports Keeping track record Enabling users' feedback via email Marketing automation techniques AdhereToWeb technologies Create custom reports Responsible for ensuring user acceptance Tracking usage patterns using analytics Automation Testing Methodologies Scrumming Cloning scripts Creating Test cases Involved in development environment Develop test plans Resolving bugs Reporting quality information ParticipatedIn User Interface Designings Troubleshooting Bugs Screencasts Help desk Coordinating meetings Organize Meetings Schedule sessions Daily Activities Document creation Software Configuration Documentation Web Based Application Security Clearance Administration Organization(CDMA) Developer Tools Windows XP Proj Install Operating Systems MS Access Professional Installation Manual configuration Oracle ADP Client SQL Server 2010p1 Support Package Licensing Microsoft Office 2003R2 Other Applications Vendor support GSM Provider Network Solutions Service Center Location Change Date Time Zone Switch Off Location Maintenance Control VPN network Tunnels WINS Reconciliation TCP/IP Configuring LAN Routers DHCP server Upgrade Packages Updating Domain controllers DNS resolution FTP servers Proxy Servers Routing protocols SSID backup Request For Guest Requests Restocking client backups Recovery Policy Authentication QuickBooks SharePoint Backup Tool Jira ActiveX Control Panel Setup Basic error correcting documentation Visio Tablet Connectivity Finder Accounts manager Business process improvement Product marketing materials Site map design Project Optimization Website redesign SEO optimization Social media strategy Content analysis Excel AutoCAD GMBA HTML5 Markup Language Regular expression highlighting Custom graphics Preparation Requirements Technical Specification WordPerfect Ajax Debugging Internet Explorer PowerPoint Integration Data warehouse XML database Multisim Protocol Version control Resource Oriented Platform Databases Redhat Satellite base Apache Tomcat Linux Distribution Ubuntu Debian Enterprise Linux Subversion Unix Role Playing Ticket Advertising Quality assurance Planning tools Scripted application developer Languages Python REST API Django AJAX Functional programming Java SEL Framework JSON Schema specification Javascript PHP JavaScript modules CSS3 Object Oriented Programming Power Point Flash Player Online Store WordPress CMS Loader Code Editor Photoshop Illustrator SoundCloud DriveMaker Visual Studio 2013 Creative Cloudfront Desktop Template MySpace Github Repositories Mailchimp Mobile Appstore Google Analytics Instagram Stories Twitter Ads Android Marketplaces Facebook Groups Pinterest Youtube Views Skype Calling Others Contact Form Input Handling Emails Confirmations Prepared documents Monthly invoicing Documents Stockroom Pricing Payment Planner Suggestions Print shipping Promotion Plans Promotional material Purchase orders Shipping Order handling Contracts Delivery schedules Retail sales Exchanges Selling products Warehouse Services Projects Tradeshow Building Sell order templates Production code debugging Gitlab Pull Requests Show builds project log files Review build times Report changes Bug tracking Program flow Analysis Impact reporting Writing unit tests Dependency injection testing Self-service tuning Unit testing ServSafe CI tool Struts Validation Checklist Improvements Use Cases Modular testing Problem solving Conduct audits Scope audit Reviews Feature requests New feature request Follow up Processes Traceback policy Making sure we follow product lifecycle Inspectors manual coding Make sense of problems Type check reviews Forking issues Identify usability Gap fixing Eagerness to learn Introduce value additivity Experienced developers Lead daily activities Weekly maintenance Continuous integration monitoring Source control Reliable source distribution Deployment Release planning File sharing Dedicated contributor Collaborate regularly across all platforms Public Speaking Stronggenerate CV for Samantha, the IT Recruiter. She is currently pursuing a Masters in Information Technology (IT) at RMIT University where she will work towards her potential as an Operations Manager and also to become part of a team which brings our company closer to success!\n",
      "\n",
      "\n",
      "Job Profile:\n",
      "Achieving Project Goal Setting up Team Size - 15-20 members Duration Of Contractor Working Period From Date To Date Location \n",
      "Sr./Team Leader/Project Lead â¢ Strengths & Abilities Description I am experienced with developing complex project management systems including HRMS's like CRM's, ADP's etc., Responsibilities include but are not limited to managing multiple teams working on different projects simultaneously ensuring all stakeholders can benefit from my knowledge base while maintaining high standards of quality within the organization Work History / Experience : Mar 2016 till date Roles Used My Role As A Sr. Technical Support And Projects Manage High Level Organization Sourcing Services Provided by Microsoft Office Suite , SAP Tools Provide solutions support services such people jobsites that have good experience handling technical issues Such as problems related problem solving techniques or tools For example we provided job site troubleshooting software called Help Desk Solution because it works seamlessly across platforms Being responsible for creating reports using MS Excels tool along with various other processes Like loading information into help desk system so data entry process would be smooth Also when applying solution then Job Details need updating Maintain contact details through eMail application So even if there is no message coming back via email regarding change request send correct follow ups Emailing users easily Managing multi task tasks accurately Creating custom alerts during workflow Using Sharepoint portal Service Providing excellent user interface providing great reporting functionality Performing maintenance activities regularly Testing applications running under Linux System Requirements Education level Network Security Pune 2013 Bengaluru Institute Of Technology\t\n",
      "Software Engineer Internship Program Management Chennai Other Type Software Engineering Computer Applications TechnologiesEducation City .. Nagpur university HSC 3 months Electronics nyc computer technology college 2 years MIS business development Nanded College OFotech Mumbai 5 semesters Bachelor of Science Marketing Indore IN 4 Years Business Administration Nashik Institution 6 weeks BSc Electrical design engineering Rajasthan state board 1 year Industrial Relations Mahindra State Board 10 days Master of science commerce Ganjendra techno institute 7 MONTH PROJECT MANAGEMENT PANEL Coordinate daily operations Activities conducted around campus involved performing general office duties Interact with customers about product availability Contact customer service representatives Daily meetings Organize workshops On-line networking opportunities Public Speaking sessions Conducted monthly media tours Around campus promoting products Consistently exceeding targets Vendor relations Regularly meet weekly performance goals Product Specifications Designation:- Exprience - 120 hoursCompany Details  externalTo\n",
      "company – CNC mill India Pvt Ltd pvt ltd mumbai 11 Jan 2017 Key Result Areas(%) Minor Skills Developments Secondary School Certificate Primary Grade Certifications Web Based Application Development HTML5 Javascript Operating Systems Apache Tomcat 9g Server 2008R2 Database Administrator MySQL Configuration Designer SQL Tool v1.8+ Developer Account Control QCOM UNIX Platform Integration Android Studio 2007 Test Reports Site Admin CSS3 Installation XML Reporting Bug Tracking Script Documentation Search Engine Optimization Scrum Client Python Programming Languages PHP Debugging Framework Sublime Text IDE Flash Player Internet Explorer Firefox OS X Window Tablet Protocol Implementations File manager FTP Handling Shell scripts Multisim Password Protection Access Controls Unix Files Transfer Problem Solver Troubleshoot Various Communication Techniques Windows XP Professional Distribution Yandex Desktop client Oracle Backup Exec Packages WinXP Proxy server VirtualBox Automation WCF Document Extractors VMWare ESXi 2000Server 2003 Servers Dell servers NAS Laptop LAN Tuner Ethernet Switch Installers Netgear Routers SSID Recovery Utility SMB Reconnections TWRP Setup Upgrades Tidal Cloud Video Converter UBlock VPNVPN Configure DNS configuration Cisco Switches MAC Address Translation F4TP IPsec Smart router setup DHCP Gateway Relay Chat Calling HDCP Trusted Rootkits Kisan GSM Group Policy Planning Planning Domain Name Change Monitoring Active Directory Maintenance Distributed Replication Firewall Upgrade Requirement Modify security Policies Create new network protocols IPv6 Addressing Authority Softwares Trustworthy root certificate renewals Set trust parameters Prepare backups Load balancing Manual backup Logical Volume Licensing Oversee legacy policies Restore local files Copy protection rules Remove permissions Dynamic Range Checks Use SSL certificates Prevent unauthorized access remotely Identify file copying Process upgrade requests Followup checksums Perform periodic checkups Restart redundant disks Preparing complete load balancers Make sure proper documentation includes testing timeouts Timeout monitoring Auto-scaling Basic error correction QuickBooks Quark Quality assurance Checklists Importance checking Inventory control Data integrity database Installing packages Receive Package updates Ensure package source list meets requirements Compile vendor specifications Invoice tracking Monitor invoices Servlet executions Schedule execution plan Build order processing Define policy Scope escalation Select appropriate modules Specify procedures Review unit test case analysis Repositories Keep track invariant Deployment planning Unit testing Full cycle deployment Planned upgrades Weekly release scheduling Scheduling Report creation Self-service automation\n"
     ]
    }
   ],
   "source": [
    "\n",
    "\n",
    "model.eval()\n",
    "generated_text = \"\"\n",
    "input_ids = tokenizer.encode(prompt, return_tensors=\"pt\")\n",
    "max_new_tokens_per_generation = 1000 \n",
    "current_length = 0\n",
    "\n",
    "\n",
    "#Debug Data\n",
    "vocab_size = tokenizer.vocab_size\n",
    "print(input_ids)\n",
    "print(f\"Vocab size: {vocab_size}\")\n",
    "print(f\"Max index in input_ids: {input_ids.max()}\")\n",
    "\n",
    "\n",
    "while current_length < total_new_tokens:\n",
    "    output = model.generate(\n",
    "        input_ids,\n",
    "        attention_mask=torch.ones_like(input_ids),\n",
    "        max_new_tokens=max_new_tokens_per_generation,\n",
    "        num_return_sequences=1,\n",
    "        temperature=0.7,\n",
    "        top_p=0.9,\n",
    "        repetition_penalty=1.2,\n",
    "        do_sample=True,\n",
    "        pad_token_id=tokenizer.eos_token_id\n",
    "    )\n",
    "    \n",
    "    generated_part = tokenizer.decode(output[0], skip_special_tokens=True)\n",
    "    generated_text += generated_part\n",
    "\n",
    "    input_ids = tokenizer.encode(prompt, return_tensors=\"pt\")\n",
    "\n",
    "    current_length += max_new_tokens_per_generation\n",
    "\n",
    "print(generated_text)"
   ]
  },
  {
   "cell_type": "code",
   "execution_count": null,
   "id": "22aa892d-286c-4a42-8446-f02a33dd6ff2",
   "metadata": {},
   "outputs": [],
   "source": []
  }
 ],
 "metadata": {
  "kernelspec": {
   "display_name": "Python 3 (ipykernel)",
   "language": "python",
   "name": "python3"
  },
  "language_info": {
   "codemirror_mode": {
    "name": "ipython",
    "version": 3
   },
   "file_extension": ".py",
   "mimetype": "text/x-python",
   "name": "python",
   "nbconvert_exporter": "python",
   "pygments_lexer": "ipython3",
   "version": "3.8.20"
  }
 },
 "nbformat": 4,
 "nbformat_minor": 5
}
